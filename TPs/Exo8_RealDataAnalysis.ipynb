{
 "cells": [
  {
   "cell_type": "markdown",
   "metadata": {},
   "source": [
    "\n",
    "## EXERCICE 8 : Utilisation de Pandas et sklearn pour l'analyse de données réelles\n",
    "\n"
   ]
  },
  {
   "cell_type": "code",
   "execution_count": 7,
   "metadata": {},
   "outputs": [],
   "source": [
    "import pandas as pd\n",
    "import numpy as np\n",
    "import matplotlib.pyplot as plt\n",
    "from sklearn.preprocessing import scale\n"
   ]
  },
  {
   "cell_type": "markdown",
   "metadata": {},
   "source": [
    "### Question 1 : \n",
    "- utiliser la fonction pandas.read_csv avec les bonnes options pour charger le fichier RealMedicalData.csv. On remarquera que le separateur dans le fichier csv est ';' et que les decimales sont representees par des virgules et non des points. Il est important de remarquer qu'un dataframe et non un numpy array sera retourne. Cette classe contient l'equivalent d'un numpy.array mais aussi le nom des lignes et colonnes, tout comme dans les dataframes de R\n",
    "- Extraire deux numpy.arrays X et y des donnes pour faire par la suite de la regression. Nous allons essayer d'expliquer  'Disease progression' avec les autres variables. Ce sera alors la colonne qui contient y. Les autres colonnes contiendront les donnees de X.\n",
    "- Une fois X et y extrait, centrer et reduire X. La fonction sklearn.preprocessing.scale pourra etre utilisee\n"
   ]
  },
  {
   "cell_type": "code",
   "execution_count": 33,
   "metadata": {},
   "outputs": [],
   "source": [
    "df = pd.read_csv('RealMedicalData.csv', delimiter=';', decimal=',')"
   ]
  },
  {
   "cell_type": "code",
   "execution_count": 47,
   "metadata": {},
   "outputs": [],
   "source": [
    "from sklearn.model_selection import train_test_split\n",
    "\n",
    "y = df[\"Disease progression\"]          # target\n",
    "X = df.drop(columns=[\"Disease progression\"])  # all other columns as features\n",
    "\n",
    "\n",
    "# Split into train and test set. Training will be done only with the train set and test only for evaluation.\n",
    "X_train, X_test, y_train, y_test = train_test_split(\n",
    "    X, y, test_size=0.2, random_state=42\n",
    ")\n",
    "\n",
    "X_train = X_train.reset_index(drop=True)\n",
    "X_test  = X_test.reset_index(drop=True)\n",
    "y_train = y_train.reset_index(drop=True)\n",
    "y_test  = y_test.reset_index(drop=True)\n",
    "\n",
    "# Standardise X_train and X_test separately to prevent data leakage.\n",
    "X_train_scaled = scale(X_train)\n",
    "X_test_scaled = scale(X_test)"
   ]
  },
  {
   "cell_type": "markdown",
   "metadata": {},
   "source": [
    "\n",
    "### Question 2 : \n",
    "- Mettre en lien X et y a l'aide de la regression lineaire multiple avec une penalisation Lasso\n",
    "- A la vue des resultats, quelle variable vous semble liee a 'Disease progression'?\n",
    "- Verifier cette relation en representant des nuages de points mettant en lien les observations de chaque variable avec les observations de 'Disease progression'\n",
    "\n"
   ]
  },
  {
   "cell_type": "code",
   "execution_count": 50,
   "metadata": {},
   "outputs": [
    {
     "name": "stdout",
     "output_type": "stream",
     "text": [
      "Alpha = 0.001: Mean MSE = 17.57248353161927\n",
      "Alpha = 0.01: Mean MSE = 17.160063461305462\n",
      "Alpha = 0.1: Mean MSE = 14.960288424145308\n",
      "Alpha = 1: Mean MSE = 13.027653796165618\n",
      "Alpha = 10: Mean MSE = 15.834097388440426\n"
     ]
    }
   ],
   "source": [
    "from sklearn.linear_model import Lasso\n",
    "from sklearn.model_selection import KFold\n",
    "from sklearn.metrics import mean_squared_error\n",
    "\n",
    "NBfolds = 10\n",
    "\n",
    "# estimation ordre de grandeur de alpha\n",
    "\n",
    "for alpha in [0.001, 0.01, 0.1, 1, 10]:\n",
    "\n",
    "    sum_mse_score = 0\n",
    "\n",
    "    kf = KFold(n_splits=NBfolds)\n",
    "\n",
    "    for train_index, val_index in kf.split(X_train_scaled):\n",
    "\n",
    "\n",
    "        X_tr=X_train_scaled[train_index]\n",
    "        y_tr=y_train[train_index]\n",
    "        X_val=X_train_scaled[val_index]\n",
    "        y_val=y_train[val_index]\n",
    "  \n",
    "        lasso_regressor = Lasso(alpha=alpha)\n",
    "        lasso_regressor.fit(X_tr, y_tr)\n",
    "\n",
    "        y_pred_lasso = lasso_regressor.predict(X_val)\n",
    "        mse_score_lasso = mean_squared_error(y_val, y_pred_lasso)\n",
    "        sum_mse_score += mse_score_lasso\n",
    "\n",
    "    print(f'Alpha = {alpha}: Mean MSE = {sum_mse_score / NBfolds}')\n"
   ]
  },
  {
   "cell_type": "code",
   "execution_count": null,
   "metadata": {},
   "outputs": [
    {
     "name": "stdout",
     "output_type": "stream",
     "text": [
      "Alpha = 0.3: Mean MSE = 13.114775618458996\n",
      "Alpha = 0.5: Mean MSE = 12.574471634457003\n",
      "Alpha = 0.7: Mean MSE = 12.85555275714537\n",
      "Alpha = 0.9: Mean MSE = 12.843017053156299\n"
     ]
    }
   ],
   "source": [
    "for alpha in [0.3, 0.5, 0.7, 0.9]:\n",
    "\n",
    "    sum_mse_score = 0\n",
    "\n",
    "    kf = KFold(n_splits=NBfolds)\n",
    "\n",
    "    for train_index, val_index in kf.split(X_train_scaled):\n",
    "\n",
    "\n",
    "        X_tr=X_train_scaled[train_index]\n",
    "        y_tr=y_train[train_index]\n",
    "        X_val=X_train_scaled[val_index]\n",
    "        y_val=y_train[val_index]\n",
    "  \n",
    "        lasso_regressor = Lasso(alpha=alpha)\n",
    "        lasso_regressor.fit(X_tr, y_tr)\n",
    "\n",
    "        y_pred_lasso = lasso_regressor.predict(X_val)\n",
    "        mse_score_lasso = mean_squared_error(y_val, y_pred_lasso)\n",
    "        sum_mse_score += mse_score_lasso\n",
    "\n",
    "    print(f'Alpha = {alpha}: Mean MSE = {sum_mse_score / NBfolds}')\n",
    "\n",
    "# On garde alpha = 0.5"
   ]
  },
  {
   "cell_type": "code",
   "execution_count": 55,
   "metadata": {},
   "outputs": [
    {
     "name": "stdout",
     "output_type": "stream",
     "text": [
      "MSE in train: 55.59866807515566\n",
      "MSE in test: 41.40169054660383\n"
     ]
    },
    {
     "name": "stderr",
     "output_type": "stream",
     "text": [
      "/home/mqtho/miniconda3/envs/myenv/lib/python3.12/site-packages/sklearn/utils/validation.py:2749: UserWarning: X does not have valid feature names, but Lasso was fitted with feature names\n",
      "  warnings.warn(\n",
      "/home/mqtho/miniconda3/envs/myenv/lib/python3.12/site-packages/sklearn/utils/validation.py:2749: UserWarning: X does not have valid feature names, but Lasso was fitted with feature names\n",
      "  warnings.warn(\n"
     ]
    }
   ],
   "source": [
    "lasso_regressor_final = Lasso(alpha=0.5)\n",
    "lasso_regressor_final.fit(X_train, y_train)\n",
    "\n",
    "y_pred_train = lasso_regressor_final.predict(X_train_scaled)\n",
    "y_pred_test = lasso_regressor_final.predict(X_test_scaled)\n",
    "\n",
    "print(f'MSE in train: {mean_squared_error(y_train, y_pred_train)}')\n",
    "print(f'MSE in test: {mean_squared_error(y_test, y_pred_test)}')"
   ]
  },
  {
   "cell_type": "code",
   "execution_count": 61,
   "metadata": {},
   "outputs": [
    {
     "data": {
      "text/plain": [
       "array([ 0.4320866 ,  0.        ,  0.        ,  0.        ,  0.        ,\n",
       "       -0.21106819,  0.21608433, -0.10079943, -0.        ,  0.        ,\n",
       "        0.        ,  0.        ,  0.        ,  0.00403143,  0.        ,\n",
       "       -0.        , -0.42459898,  0.04561237])"
      ]
     },
     "execution_count": 61,
     "metadata": {},
     "output_type": "execute_result"
    }
   ],
   "source": [
    "lasso_regressor_final.coef_"
   ]
  }
 ],
 "metadata": {
  "anaconda-cloud": {},
  "kernelspec": {
   "display_name": "myenv",
   "language": "python",
   "name": "python3"
  },
  "language_info": {
   "codemirror_mode": {
    "name": "ipython",
    "version": 3
   },
   "file_extension": ".py",
   "mimetype": "text/x-python",
   "name": "python",
   "nbconvert_exporter": "python",
   "pygments_lexer": "ipython3",
   "version": "3.12.11"
  }
 },
 "nbformat": 4,
 "nbformat_minor": 4
}
